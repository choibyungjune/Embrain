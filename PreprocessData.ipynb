{
 "cells": [
  {
   "cell_type": "code",
   "execution_count": null,
   "metadata": {},
   "outputs": [],
   "source": [
    "import pandas as pd\n",
    "import numpy as np\n",
    "from pandas import Series\n",
    "import pickle"
   ]
  },
  {
   "cell_type": "code",
   "execution_count": null,
   "metadata": {},
   "outputs": [],
   "source": [
    "# combine app data and extract youtube and instagram data"
   ]
  },
  {
   "cell_type": "code",
   "execution_count": null,
   "metadata": {},
   "outputs": [],
   "source": [
    "app1 = pd.read_csv('[APP] Refine_Usage_Sum_Time(60~63).csv')\n",
    "app2 = pd.read_csv('[APP] Refine_Usage_Sum_Time(64~67).csv')\n",
    "app3 = pd.read_csv('[APP] Refine_Usage_Sum_Time(68~72).csv')\n",
    "app4 = pd.read_csv('[APP] Refine_Usage_Sum_Time(73~76).csv')"
   ]
  },
  {
   "cell_type": "code",
   "execution_count": null,
   "metadata": {},
   "outputs": [],
   "source": [
    "print('app1 : ',app1.shape)\n",
    "print('app2 : ',app2.shape)\n",
    "print('app3 : ',app3.shape)\n",
    "print('app4 : ',app4.shape)"
   ]
  },
  {
   "cell_type": "code",
   "execution_count": null,
   "metadata": {},
   "outputs": [],
   "source": [
    "app1.head()"
   ]
  },
  {
   "cell_type": "code",
   "execution_count": null,
   "metadata": {},
   "outputs": [],
   "source": [
    "app2.head()"
   ]
  },
  {
   "cell_type": "code",
   "execution_count": null,
   "metadata": {},
   "outputs": [],
   "source": [
    "app3.head()"
   ]
  },
  {
   "cell_type": "code",
   "execution_count": null,
   "metadata": {},
   "outputs": [],
   "source": [
    "app4.head()"
   ]
  },
  {
   "cell_type": "code",
   "execution_count": null,
   "metadata": {},
   "outputs": [],
   "source": [
    "app = pd.concat([app1, app2, app3, app4], ignore_index = True)"
   ]
  },
  {
   "cell_type": "code",
   "execution_count": null,
   "metadata": {},
   "outputs": [],
   "source": [
    "app_youtube = app[app['app_name'] == 'YouTube']\n",
    "app_instagram = app[app['app_name'] == 'Instagram']"
   ]
  },
  {
   "cell_type": "code",
   "execution_count": null,
   "metadata": {},
   "outputs": [],
   "source": [
    "print(app_youtube.shape)\n",
    "app_youtube.head()"
   ]
  },
  {
   "cell_type": "code",
   "execution_count": null,
   "metadata": {},
   "outputs": [],
   "source": [
    "print(app_instagram.shape)\n",
    "app_instagram.head()"
   ]
  },
  {
   "cell_type": "code",
   "execution_count": null,
   "metadata": {},
   "outputs": [],
   "source": [
    "youtube_id = []\n",
    "instagram_id = []\n",
    "for i in app_youtube['panel_id'].unique() : \n",
    "    youtube_id.append(i)\n",
    "for i in app_instagram['panel_id'].unique() : \n",
    "    instagram_id.append(i)"
   ]
  },
  {
   "cell_type": "code",
   "execution_count": null,
   "metadata": {},
   "outputs": [],
   "source": [
    "len(youtube_id)"
   ]
  },
  {
   "cell_type": "code",
   "execution_count": null,
   "metadata": {},
   "outputs": [],
   "source": [
    "id_for_both = set().union(youtube_id, instagram_id)"
   ]
  },
  {
   "cell_type": "code",
   "execution_count": null,
   "metadata": {},
   "outputs": [],
   "source": [
    "len(id_for_both)"
   ]
  },
  {
   "cell_type": "code",
   "execution_count": null,
   "metadata": {},
   "outputs": [],
   "source": [
    "#Find the panel data of youtube and instagram user"
   ]
  },
  {
   "cell_type": "code",
   "execution_count": null,
   "metadata": {},
   "outputs": [],
   "source": [
    "panel = pd.read_csv('[PPDB] data.csv', index_col = 'id')"
   ]
  },
  {
   "cell_type": "code",
   "execution_count": null,
   "metadata": {},
   "outputs": [],
   "source": [
    "print(panel.shape)\n",
    "panel.head()"
   ]
  },
  {
   "cell_type": "code",
   "execution_count": null,
   "metadata": {},
   "outputs": [],
   "source": [
    "panel_id = set(panel.index)"
   ]
  },
  {
   "cell_type": "code",
   "execution_count": null,
   "metadata": {},
   "outputs": [],
   "source": [
    "panel_and_app_id = panel_id & id_for_both"
   ]
  },
  {
   "cell_type": "code",
   "execution_count": null,
   "metadata": {},
   "outputs": [],
   "source": [
    "panel = panel[panel.index.isin(panel_and_app_id)]"
   ]
  },
  {
   "cell_type": "code",
   "execution_count": null,
   "metadata": {},
   "outputs": [],
   "source": [
    "#아이디별로 사용하는 시간\n",
    "youtubetime = app_youtube.groupby(['panel_id']).mean()\n",
    "youtubetime = youtubetime[youtubetime.index.isin(panel_and_app_id)]\n",
    "print(len(youtubetime))\n",
    "\n",
    "\n",
    "instagramtime = app_instagram.groupby(['panel_id']).mean()\n",
    "instagramtime = instagramtime[instagramtime.index.isin(panel_and_app_id)]\n",
    "print(len(instagramtime))"
   ]
  },
  {
   "cell_type": "code",
   "execution_count": null,
   "metadata": {},
   "outputs": [],
   "source": [
    "youtubetime = youtubetime[['total_time_stamp']]\n",
    "instagramtime = instagramtime[['total_time_stamp']]"
   ]
  },
  {
   "cell_type": "code",
   "execution_count": null,
   "metadata": {},
   "outputs": [],
   "source": [
    "youtubetime[0:10]"
   ]
  },
  {
   "cell_type": "code",
   "execution_count": null,
   "metadata": {},
   "outputs": [],
   "source": [
    "panel = panel.join(youtubetime)\n",
    "panel.rename(columns = {'total_time_stamp' : 'youtubetime'},inplace = True)"
   ]
  },
  {
   "cell_type": "code",
   "execution_count": null,
   "metadata": {},
   "outputs": [],
   "source": [
    "panel = panel.join(instagramtime)\n",
    "panel.rename(columns = {'total_time_stamp' : 'instagramtime'}, inplace = True)"
   ]
  },
  {
   "cell_type": "code",
   "execution_count": null,
   "metadata": {},
   "outputs": [],
   "source": [
    "# because of the data limitation, save the rearranged data set as a pickle file\n",
    "pickle_out = open('app_and_panel.pickle', 'wb')\n",
    "pickle.dump(panel, pickle_out)\n",
    "pickle_out.close()"
   ]
  },
  {
   "cell_type": "code",
   "execution_count": null,
   "metadata": {},
   "outputs": [],
   "source": [
    "pickle_in = open('app_and_panel.pickle', 'rb')\n",
    "panel = pickle.load(pickle_in)"
   ]
  },
  {
   "cell_type": "code",
   "execution_count": null,
   "metadata": {},
   "outputs": [],
   "source": [
    "panel"
   ]
  },
  {
   "cell_type": "code",
   "execution_count": null,
   "metadata": {},
   "outputs": [],
   "source": [
    "# combine payment data and extract row with app_and_panel IDs and selected columns"
   ]
  },
  {
   "cell_type": "code",
   "execution_count": null,
   "metadata": {},
   "outputs": [],
   "source": [
    "pay1 = pd.read_csv('[PAYMENT] PAYMENT_201811.csv')\n",
    "pay2 = pd.read_csv('[PAYMENT] PAYMENT_201812.csv')\n",
    "pay3 = pd.read_csv('[PAYMENT] PAYMENT_201901.csv')\n",
    "pay4 = pd.read_csv('[PAYMENT] PAYMENT_201902.csv')"
   ]
  },
  {
   "cell_type": "code",
   "execution_count": null,
   "metadata": {},
   "outputs": [],
   "source": [
    "pay = pd.concat([pay1, pay2, pay3, pay4])"
   ]
  },
  {
   "cell_type": "code",
   "execution_count": null,
   "metadata": {},
   "outputs": [],
   "source": [
    "print(pay.shape)\n",
    "pay.head()"
   ]
  },
  {
   "cell_type": "code",
   "execution_count": null,
   "metadata": {},
   "outputs": [],
   "source": [
    "pay = pay[['PANEL_ID', 'age', 'Area_Code1', 'Area_Code2', 'CATEGORY_CODE', 'CATEGORY_GROUP_CODE', 'CARD_PAYMENT_TYPE', 'APPROVAL_REAL_PRICE']]"
   ]
  },
  {
   "cell_type": "code",
   "execution_count": null,
   "metadata": {},
   "outputs": [],
   "source": [
    "pickle_out = open('pay.pickle', 'wb')\n",
    "pickle.dump(pay, pickle_out)\n",
    "pickle_out.close()"
   ]
  },
  {
   "cell_type": "code",
   "execution_count": null,
   "metadata": {},
   "outputs": [],
   "source": [
    "pickle_in = open('pay.pickle', 'rb')\n",
    "pay = pickle.load(pickle_in)"
   ]
  },
  {
   "cell_type": "code",
   "execution_count": null,
   "metadata": {},
   "outputs": [],
   "source": [
    "# make copy of the pay dataframe\n",
    "payment = pay.copy()\n",
    "payment.CARD_PAYMENT_TYPE = payment.CARD_PAYMENT_TYPE.str.rstrip()"
   ]
  },
  {
   "cell_type": "code",
   "execution_count": null,
   "metadata": {},
   "outputs": [],
   "source": [
    "payment.head()"
   ]
  },
  {
   "cell_type": "code",
   "execution_count": null,
   "metadata": {},
   "outputs": [],
   "source": [
    "payment['CARD_PAYMENT_TYPE'].replace('PBK', 0, inplace = True)\n",
    "payment['CARD_PAYMENT_TYPE'].replace('PCK', 0, inplace = True)\n",
    "payment['CARD_PAYMENT_TYPE'].replace('PCT', 0, inplace = True)\n",
    "payment['CARD_PAYMENT_TYPE'].replace('SP', 0, inplace = True)\n",
    "payment['CARD_PAYMENT_TYPE'].replace('PA', 1, inplace = True)"
   ]
  },
  {
   "cell_type": "code",
   "execution_count": null,
   "metadata": {},
   "outputs": [],
   "source": [
    "payment.head()"
   ]
  },
  {
   "cell_type": "code",
   "execution_count": null,
   "metadata": {},
   "outputs": [],
   "source": [
    "payment.dtypes"
   ]
  },
  {
   "cell_type": "code",
   "execution_count": null,
   "metadata": {},
   "outputs": [],
   "source": [
    "payment['ratio_pa'] = pd.to_numeric(payment[\"CARD_PAYMENT_TYPE\"])"
   ]
  },
  {
   "cell_type": "code",
   "execution_count": null,
   "metadata": {},
   "outputs": [],
   "source": [
    "pay_id = set(payment['PANEL_ID'].unique())"
   ]
  },
  {
   "cell_type": "code",
   "execution_count": null,
   "metadata": {},
   "outputs": [],
   "source": [
    "total_id = pay_id & set(panel.index)"
   ]
  },
  {
   "cell_type": "code",
   "execution_count": null,
   "metadata": {},
   "outputs": [],
   "source": [
    "len(total_id)"
   ]
  },
  {
   "cell_type": "code",
   "execution_count": null,
   "metadata": {},
   "outputs": [],
   "source": [
    "panel=panel[panel.index.isin(total_id)]"
   ]
  },
  {
   "cell_type": "code",
   "execution_count": null,
   "metadata": {},
   "outputs": [],
   "source": [
    "print(panel.shape)\n",
    "panel.head()"
   ]
  },
  {
   "cell_type": "code",
   "execution_count": null,
   "metadata": {},
   "outputs": [],
   "source": [
    "ratio = payment.groupby('PANEL_ID').mean()\n",
    "ratio = ratio[['ratio_pa']]"
   ]
  },
  {
   "cell_type": "code",
   "execution_count": null,
   "metadata": {},
   "outputs": [],
   "source": [
    "panel = panel.join(ratio)"
   ]
  },
  {
   "cell_type": "code",
   "execution_count": null,
   "metadata": {},
   "outputs": [],
   "source": [
    "print(panel.shape)\n",
    "panel.head()"
   ]
  },
  {
   "cell_type": "code",
   "execution_count": null,
   "metadata": {},
   "outputs": [],
   "source": [
    "payX=pay[['PANEL_ID', 'age','Area_Code1','Area_Code2']]"
   ]
  },
  {
   "cell_type": "code",
   "execution_count": null,
   "metadata": {},
   "outputs": [],
   "source": [
    "payX.Area_Code1 = payX.Area_Code1.str.strip()\n",
    "payX[\"Area_Code1\"] = pd.to_numeric(payX['Area_Code1'], downcast='float')"
   ]
  },
  {
   "cell_type": "code",
   "execution_count": null,
   "metadata": {},
   "outputs": [],
   "source": [
    "payX.Area_Code2 = payX.Area_Code2.str.strip()\n",
    "payX[\"Area_Code2\"] = pd.to_numeric(payX['Area_Code2'], downcast='float')"
   ]
  },
  {
   "cell_type": "code",
   "execution_count": null,
   "metadata": {},
   "outputs": [],
   "source": [
    "payX = payX.groupby(['PANEL_ID']).mean()"
   ]
  },
  {
   "cell_type": "code",
   "execution_count": null,
   "metadata": {},
   "outputs": [],
   "source": [
    "payX['age'] = np.ceil(payX['age'])"
   ]
  },
  {
   "cell_type": "code",
   "execution_count": null,
   "metadata": {},
   "outputs": [],
   "source": [
    "panel.join(payX)"
   ]
  },
  {
   "cell_type": "code",
   "execution_count": null,
   "metadata": {},
   "outputs": [],
   "source": [
    "pickle_out = open('dataframe_bigbrain.pickle', 'wb')\n",
    "pickle.dump(panel, pickle_out)\n",
    "pickle_out.close()"
   ]
  },
  {
   "cell_type": "code",
   "execution_count": null,
   "metadata": {},
   "outputs": [],
   "source": [
    "pickle_in = open('dataframe_bigbrain.pickle', 'rb')\n",
    "panel = pickle.load(pickle_in)"
   ]
  },
  {
   "cell_type": "code",
   "execution_count": null,
   "metadata": {},
   "outputs": [],
   "source": [
    "pay.head()"
   ]
  },
  {
   "cell_type": "code",
   "execution_count": null,
   "metadata": {},
   "outputs": [],
   "source": [
    "# divide the payment into Categories and select categories with significant number of data"
   ]
  },
  {
   "cell_type": "code",
   "execution_count": null,
   "metadata": {},
   "outputs": [],
   "source": [
    "CVs = pd.DataFrame(pay[(pay[\"CATEGORY_CODE\"]==101)|(pay[\"CATEGORY_CODE\"]==199)].groupby(['PANEL_ID']).sum().APPROVAL_REAL_PRICE)\n",
    "CVs.rename(columns = {'APPROVAL_REAL_PRICE' : 'CVs'},inplace = True)\n",
    "len(CVs)"
   ]
  },
  {
   "cell_type": "code",
   "execution_count": null,
   "metadata": {},
   "outputs": [],
   "source": [
    "emart = pd.DataFrame(pay[(pay[\"CATEGORY_CODE\"]==201)|(pay[\"CATEGORY_CODE\"]==202)|(pay[\"CATEGORY_CODE\"]==299)].groupby(['PANEL_ID']).sum().APPROVAL_REAL_PRICE)\n",
    "emart.rename(columns = {'APPROVAL_REAL_PRICE' : 'emart'},inplace = True)\n",
    "len(emart)"
   ]
  },
  {
   "cell_type": "code",
   "execution_count": null,
   "metadata": {},
   "outputs": [],
   "source": [
    "cafe = pd.DataFrame(pay[(pay[\"CATEGORY_CODE\"]==301)|(pay[\"CATEGORY_CODE\"]==399)].groupby(['PANEL_ID']).sum().APPROVAL_REAL_PRICE)\n",
    "cafe.rename(columns = {'APPROVAL_REAL_PRICE' : 'cafe'},inplace = True)\n",
    "len(cafe)"
   ]
  },
  {
   "cell_type": "code",
   "execution_count": null,
   "metadata": {},
   "outputs": [],
   "source": [
    "food = pd.DataFrame(pay[(pay[\"CATEGORY_CODE\"]==401)|(pay[\"CATEGORY_CODE\"]==499)|(pay[\"CATEGORY_CODE\"]==402)].groupby(['PANEL_ID']).sum().APPROVAL_REAL_PRICE)\n",
    "food.rename(columns = {'APPROVAL_REAL_PRICE' : 'food'},inplace = True)\n",
    "len(food)"
   ]
  },
  {
   "cell_type": "code",
   "execution_count": null,
   "metadata": {},
   "outputs": [],
   "source": [
    "on_shop = pd.DataFrame(pay[pay[\"CATEGORY_CODE\"]==501].groupby(['PANEL_ID']).sum().APPROVAL_REAL_PRICE)\n",
    "on_shop.rename(columns = {'APPROVAL_REAL_PRICE' : 'on_shop'},inplace = True)\n",
    "len(on_shop)"
   ]
  },
  {
   "cell_type": "code",
   "execution_count": null,
   "metadata": {},
   "outputs": [],
   "source": [
    "Complex = pd.DataFrame(pay[pay[\"CATEGORY_CODE\"]==502].groupby(['PANEL_ID']).sum().APPROVAL_REAL_PRICE)\n",
    "Complex.rename(columns = {'APPROVAL_REAL_PRICE' : 'Complex'},inplace = True)\n",
    "len(Complex)"
   ]
  },
  {
   "cell_type": "code",
   "execution_count": null,
   "metadata": {},
   "outputs": [],
   "source": [
    "furniture = pd.DataFrame(pay[(pay[\"CATEGORY_CODE\"]==504)|(pay[\"CATEGORY_CODE\"]==505)].groupby(['PANEL_ID']).sum().APPROVAL_REAL_PRICE)\n",
    "furniture.rename(columns = {'APPROVAL_REAL_PRICE' : 'furniture'},inplace = True)\n",
    "len(furniture)"
   ]
  },
  {
   "cell_type": "code",
   "execution_count": null,
   "metadata": {},
   "outputs": [],
   "source": [
    "fashion = pd.DataFrame(pay[pay[\"CATEGORY_CODE\"]==601].groupby(['PANEL_ID']).sum().APPROVAL_REAL_PRICE)\n",
    "fashion.rename(columns = {'APPROVAL_REAL_PRICE' : 'fashion'},inplace = True)\n",
    "len(fashion)"
   ]
  },
  {
   "cell_type": "code",
   "execution_count": null,
   "metadata": {},
   "outputs": [],
   "source": [
    "beauty = pd.DataFrame(pay[pay[\"CATEGORY_CODE\"]==602].groupby(['PANEL_ID']).sum().APPROVAL_REAL_PRICE)\n",
    "beauty.rename(columns = {'APPROVAL_REAL_PRICE' : 'beauty'},inplace = True)\n",
    "len(beauty)"
   ]
  },
  {
   "cell_type": "code",
   "execution_count": null,
   "metadata": {},
   "outputs": [],
   "source": [
    "subway = pd.DataFrame(pay[pay[\"CATEGORY_CODE\"]==701].groupby(['PANEL_ID']).sum().APPROVAL_REAL_PRICE)\n",
    "subway.rename(columns = {'APPROVAL_REAL_PRICE' : 'subway'},inplace = True)\n",
    "len(subway)"
   ]
  },
  {
   "cell_type": "code",
   "execution_count": null,
   "metadata": {},
   "outputs": [],
   "source": [
    "taxi = pd.DataFrame(pay[pay[\"CATEGORY_CODE\"]==702].groupby(['PANEL_ID']).sum().APPROVAL_REAL_PRICE)\n",
    "taxi.rename(columns = {'APPROVAL_REAL_PRICE' : 'taxi'},inplace = True)\n",
    "len(taxi)"
   ]
  },
  {
   "cell_type": "code",
   "execution_count": null,
   "metadata": {},
   "outputs": [],
   "source": [
    "car_ma = pd.DataFrame(pay[(pay[\"CATEGORY_CODE\"]==703)|(pay[\"CATEGORY_CODE\"]==704)|(pay[\"CATEGORY_CODE\"]==705)|(pay[\"CATEGORY_CODE\"]==706)].groupby(['PANEL_ID']).sum().APPROVAL_REAL_PRICE)\n",
    "car_ma.rename(columns = {'APPROVAL_REAL_PRICE' : 'car_ma'},inplace = True)\n",
    "len(car_ma)"
   ]
  },
  {
   "cell_type": "code",
   "execution_count": null,
   "metadata": {},
   "outputs": [],
   "source": [
    "internet = pd.DataFrame(pay[(pay[\"CATEGORY_CODE\"]==801)|(pay[\"CATEGORY_CODE\"]==899)].groupby(['PANEL_ID']).sum().APPROVAL_REAL_PRICE)\n",
    "internet.rename(columns = {'APPROVAL_REAL_PRICE' : 'internet'},inplace = True)\n",
    "len(internet)"
   ]
  },
  {
   "cell_type": "code",
   "execution_count": null,
   "metadata": {},
   "outputs": [],
   "source": [
    "book = pd.DataFrame(pay[pay[\"CATEGORY_CODE\"]==1001].groupby(['PANEL_ID']).sum().APPROVAL_REAL_PRICE)\n",
    "book.rename(columns = {'APPROVAL_REAL_PRICE' : 'book'},inplace = True)\n",
    "len(book)"
   ]
  },
  {
   "cell_type": "code",
   "execution_count": null,
   "metadata": {},
   "outputs": [],
   "source": [
    "hospital = pd.DataFrame(pay[(pay[\"CATEGORY_CODE\"]==1102)|(pay[\"CATEGORY_CODE\"]==1103)|(pay[\"CATEGORY_CODE\"]==1101)].groupby(['PANEL_ID']).sum().APPROVAL_REAL_PRICE)\n",
    "hospital.rename(columns = {'APPROVAL_REAL_PRICE' : 'hospital'},inplace = True)\n",
    "len(hospital)"
   ]
  },
  {
   "cell_type": "code",
   "execution_count": null,
   "metadata": {},
   "outputs": [],
   "source": [
    "price = CVs.join(emart).join(cafe).join(food).join(on_shop).join(Complex).join(furniture).join(fashion).join(beauty).join(subway).join(taxi).join(car_ma).join(internet).join(book).join(hospital)"
   ]
  },
  {
   "cell_type": "code",
   "execution_count": null,
   "metadata": {},
   "outputs": [],
   "source": [
    "print(price.shape)\n",
    "price.head()"
   ]
  },
  {
   "cell_type": "code",
   "execution_count": null,
   "metadata": {},
   "outputs": [],
   "source": [
    "pickle_out = open('price.pickle', 'wb')\n",
    "pickle.dump(price, pickle_out)\n",
    "pickle_out.close()"
   ]
  }
 ],
 "metadata": {
  "kernelspec": {
   "display_name": "Python 3",
   "language": "python",
   "name": "python3"
  },
  "language_info": {
   "codemirror_mode": {
    "name": "ipython",
    "version": 3
   },
   "file_extension": ".py",
   "mimetype": "text/x-python",
   "name": "python",
   "nbconvert_exporter": "python",
   "pygments_lexer": "ipython3",
   "version": "3.7.1"
  }
 },
 "nbformat": 4,
 "nbformat_minor": 2
}
